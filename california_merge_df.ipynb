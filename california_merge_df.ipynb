{
 "cells": [
  {
   "cell_type": "markdown",
   "metadata": {},
   "source": [
    "# Is Daylight Saving Time a Killer?\n",
    "Gerardo Angulo, Tim Gannaway, Nikki Ryan, Rebecca Watson, Yuntian Xue"
   ]
  },
  {
   "cell_type": "code",
   "execution_count": 2,
   "metadata": {},
   "outputs": [],
   "source": [
    "#import dependencies\n",
    "import pandas as pd\n",
    "import numpy as np\n",
    "import matplotlib.pyplot as plt\n",
    "import scipy.stats as stats"
   ]
  },
  {
   "cell_type": "markdown",
   "metadata": {},
   "source": [
    "The data frame below is pulled from our \"california_cleaned_df\" notebook. \n",
    "This notebook contains data from 2016-2021. "
   ]
  },
  {
   "cell_type": "code",
   "execution_count": 3,
   "metadata": {
    "scrolled": true
   },
   "outputs": [
    {
     "data": {
      "text/html": [
       "<div>\n",
       "<style scoped>\n",
       "    .dataframe tbody tr th:only-of-type {\n",
       "        vertical-align: middle;\n",
       "    }\n",
       "\n",
       "    .dataframe tbody tr th {\n",
       "        vertical-align: top;\n",
       "    }\n",
       "\n",
       "    .dataframe thead th {\n",
       "        text-align: right;\n",
       "    }\n",
       "</style>\n",
       "<table border=\"1\" class=\"dataframe\">\n",
       "  <thead>\n",
       "    <tr style=\"text-align: right;\">\n",
       "      <th></th>\n",
       "      <th>Unnamed: 0</th>\n",
       "      <th>ID</th>\n",
       "      <th>Severity</th>\n",
       "      <th>Start_Time</th>\n",
       "      <th>Start_Lat</th>\n",
       "      <th>Start_Lng</th>\n",
       "      <th>Description</th>\n",
       "      <th>City</th>\n",
       "      <th>County</th>\n",
       "      <th>State</th>\n",
       "      <th>...</th>\n",
       "      <th>No_Exit</th>\n",
       "      <th>Station</th>\n",
       "      <th>Stop</th>\n",
       "      <th>Traffic_Signal</th>\n",
       "      <th>Sunrise_Sunset</th>\n",
       "      <th>date</th>\n",
       "      <th>time</th>\n",
       "      <th>year</th>\n",
       "      <th>month</th>\n",
       "      <th>day</th>\n",
       "    </tr>\n",
       "  </thead>\n",
       "  <tbody>\n",
       "    <tr>\n",
       "      <th>0</th>\n",
       "      <td>1901925</td>\n",
       "      <td>A-1901926</td>\n",
       "      <td>2</td>\n",
       "      <td>2020-11-17 17:12:00</td>\n",
       "      <td>39.930742</td>\n",
       "      <td>-123.763228</td>\n",
       "      <td>Incident on US-101 NB near HOUSE 10069 Expect ...</td>\n",
       "      <td>Piercy</td>\n",
       "      <td>Mendocino</td>\n",
       "      <td>CA</td>\n",
       "      <td>...</td>\n",
       "      <td>False</td>\n",
       "      <td>False</td>\n",
       "      <td>False</td>\n",
       "      <td>False</td>\n",
       "      <td>Night</td>\n",
       "      <td>2020-11-17</td>\n",
       "      <td>17:12:00</td>\n",
       "      <td>2020</td>\n",
       "      <td>11</td>\n",
       "      <td>17</td>\n",
       "    </tr>\n",
       "    <tr>\n",
       "      <th>1</th>\n",
       "      <td>351751</td>\n",
       "      <td>A-351752</td>\n",
       "      <td>2</td>\n",
       "      <td>2021-03-26 13:56:24</td>\n",
       "      <td>34.021157</td>\n",
       "      <td>-118.477548</td>\n",
       "      <td>Stationary traffic on I-10 W - Santa Monica Fw...</td>\n",
       "      <td>Santa Monica</td>\n",
       "      <td>Los Angeles</td>\n",
       "      <td>CA</td>\n",
       "      <td>...</td>\n",
       "      <td>False</td>\n",
       "      <td>False</td>\n",
       "      <td>False</td>\n",
       "      <td>False</td>\n",
       "      <td>Day</td>\n",
       "      <td>2021-03-26</td>\n",
       "      <td>13:56:24</td>\n",
       "      <td>2021</td>\n",
       "      <td>3</td>\n",
       "      <td>26</td>\n",
       "    </tr>\n",
       "    <tr>\n",
       "      <th>2</th>\n",
       "      <td>1991543</td>\n",
       "      <td>A-1991544</td>\n",
       "      <td>2</td>\n",
       "      <td>2020-10-29 12:15:30</td>\n",
       "      <td>34.199362</td>\n",
       "      <td>-118.396519</td>\n",
       "      <td>Stationary traffic from Vose St to CA-170 N du...</td>\n",
       "      <td>North Hollywood</td>\n",
       "      <td>Los Angeles</td>\n",
       "      <td>CA</td>\n",
       "      <td>...</td>\n",
       "      <td>False</td>\n",
       "      <td>False</td>\n",
       "      <td>False</td>\n",
       "      <td>False</td>\n",
       "      <td>Day</td>\n",
       "      <td>2020-10-29</td>\n",
       "      <td>12:15:30</td>\n",
       "      <td>2020</td>\n",
       "      <td>10</td>\n",
       "      <td>29</td>\n",
       "    </tr>\n",
       "    <tr>\n",
       "      <th>3</th>\n",
       "      <td>1744181</td>\n",
       "      <td>A-1744182</td>\n",
       "      <td>2</td>\n",
       "      <td>2020-11-06 18:15:30</td>\n",
       "      <td>36.684873</td>\n",
       "      <td>-119.749592</td>\n",
       "      <td>Slow traffic on CA-99 from Central Ave (CA-99)...</td>\n",
       "      <td>Fresno</td>\n",
       "      <td>Fresno</td>\n",
       "      <td>CA</td>\n",
       "      <td>...</td>\n",
       "      <td>False</td>\n",
       "      <td>False</td>\n",
       "      <td>False</td>\n",
       "      <td>False</td>\n",
       "      <td>Night</td>\n",
       "      <td>2020-11-06</td>\n",
       "      <td>18:15:30</td>\n",
       "      <td>2020</td>\n",
       "      <td>11</td>\n",
       "      <td>6</td>\n",
       "    </tr>\n",
       "    <tr>\n",
       "      <th>4</th>\n",
       "      <td>1612021</td>\n",
       "      <td>A-1612022</td>\n",
       "      <td>2</td>\n",
       "      <td>2021-02-27 11:21:00</td>\n",
       "      <td>39.796584</td>\n",
       "      <td>-123.266931</td>\n",
       "      <td>Accident from Tabor Ln to Tabor Ln / Pomo Trl.</td>\n",
       "      <td>Covelo</td>\n",
       "      <td>Mendocino</td>\n",
       "      <td>CA</td>\n",
       "      <td>...</td>\n",
       "      <td>False</td>\n",
       "      <td>False</td>\n",
       "      <td>False</td>\n",
       "      <td>False</td>\n",
       "      <td>Day</td>\n",
       "      <td>2021-02-27</td>\n",
       "      <td>11:21:00</td>\n",
       "      <td>2021</td>\n",
       "      <td>2</td>\n",
       "      <td>27</td>\n",
       "    </tr>\n",
       "  </tbody>\n",
       "</table>\n",
       "<p>5 rows × 35 columns</p>\n",
       "</div>"
      ],
      "text/plain": [
       "   Unnamed: 0         ID  Severity           Start_Time  Start_Lat  \\\n",
       "0     1901925  A-1901926         2  2020-11-17 17:12:00  39.930742   \n",
       "1      351751   A-351752         2  2021-03-26 13:56:24  34.021157   \n",
       "2     1991543  A-1991544         2  2020-10-29 12:15:30  34.199362   \n",
       "3     1744181  A-1744182         2  2020-11-06 18:15:30  36.684873   \n",
       "4     1612021  A-1612022         2  2021-02-27 11:21:00  39.796584   \n",
       "\n",
       "    Start_Lng                                        Description  \\\n",
       "0 -123.763228  Incident on US-101 NB near HOUSE 10069 Expect ...   \n",
       "1 -118.477548  Stationary traffic on I-10 W - Santa Monica Fw...   \n",
       "2 -118.396519  Stationary traffic from Vose St to CA-170 N du...   \n",
       "3 -119.749592  Slow traffic on CA-99 from Central Ave (CA-99)...   \n",
       "4 -123.266931     Accident from Tabor Ln to Tabor Ln / Pomo Trl.   \n",
       "\n",
       "              City       County State  ... No_Exit Station   Stop  \\\n",
       "0           Piercy    Mendocino    CA  ...   False   False  False   \n",
       "1     Santa Monica  Los Angeles    CA  ...   False   False  False   \n",
       "2  North Hollywood  Los Angeles    CA  ...   False   False  False   \n",
       "3           Fresno       Fresno    CA  ...   False   False  False   \n",
       "4           Covelo    Mendocino    CA  ...   False   False  False   \n",
       "\n",
       "  Traffic_Signal  Sunrise_Sunset        date      time  year  month day  \n",
       "0          False           Night  2020-11-17  17:12:00  2020     11  17  \n",
       "1          False             Day  2021-03-26  13:56:24  2021      3  26  \n",
       "2          False             Day  2020-10-29  12:15:30  2020     10  29  \n",
       "3          False           Night  2020-11-06  18:15:30  2020     11   6  \n",
       "4          False             Day  2021-02-27  11:21:00  2021      2  27  \n",
       "\n",
       "[5 rows x 35 columns]"
      ]
     },
     "execution_count": 3,
     "metadata": {},
     "output_type": "execute_result"
    }
   ],
   "source": [
    "# Read the california sample csv and store in data frame\n",
    "ca_df = pd.read_csv('california_sample.csv')\n",
    "ca_df.head()"
   ]
  },
  {
   "cell_type": "markdown",
   "metadata": {},
   "source": [
    "We created buckets in the notebook titled \"DST_CA_buckets\". \n",
    "The four buckets we used are: DST_on_PRE (spring), DST_on_POST (spring), DST_off_PRE (fall), DST_off_POST (fall)"
   ]
  },
  {
   "cell_type": "code",
   "execution_count": 4,
   "metadata": {},
   "outputs": [
    {
     "data": {
      "text/html": [
       "<div>\n",
       "<style scoped>\n",
       "    .dataframe tbody tr th:only-of-type {\n",
       "        vertical-align: middle;\n",
       "    }\n",
       "\n",
       "    .dataframe tbody tr th {\n",
       "        vertical-align: top;\n",
       "    }\n",
       "\n",
       "    .dataframe thead th {\n",
       "        text-align: right;\n",
       "    }\n",
       "</style>\n",
       "<table border=\"1\" class=\"dataframe\">\n",
       "  <thead>\n",
       "    <tr style=\"text-align: right;\">\n",
       "      <th></th>\n",
       "      <th>GroupName</th>\n",
       "      <th>State</th>\n",
       "      <th>tz</th>\n",
       "      <th>DST_Flag</th>\n",
       "      <th>Change_YR</th>\n",
       "      <th>Change_Mo</th>\n",
       "      <th>Change_Day</th>\n",
       "      <th>Change_DT</th>\n",
       "    </tr>\n",
       "  </thead>\n",
       "  <tbody>\n",
       "    <tr>\n",
       "      <th>0</th>\n",
       "      <td>CA_DST_on</td>\n",
       "      <td>CA</td>\n",
       "      <td>Pacific</td>\n",
       "      <td>DST_on_PRE</td>\n",
       "      <td>2015</td>\n",
       "      <td>2</td>\n",
       "      <td>26</td>\n",
       "      <td>2/26/2015</td>\n",
       "    </tr>\n",
       "    <tr>\n",
       "      <th>1</th>\n",
       "      <td>CA_DST_on</td>\n",
       "      <td>CA</td>\n",
       "      <td>Pacific</td>\n",
       "      <td>DST_on_PRE</td>\n",
       "      <td>2015</td>\n",
       "      <td>2</td>\n",
       "      <td>27</td>\n",
       "      <td>2/27/2015</td>\n",
       "    </tr>\n",
       "    <tr>\n",
       "      <th>2</th>\n",
       "      <td>CA_DST_on</td>\n",
       "      <td>CA</td>\n",
       "      <td>Pacific</td>\n",
       "      <td>DST_on_PRE</td>\n",
       "      <td>2015</td>\n",
       "      <td>2</td>\n",
       "      <td>28</td>\n",
       "      <td>2/28/2015</td>\n",
       "    </tr>\n",
       "    <tr>\n",
       "      <th>3</th>\n",
       "      <td>CA_DST_on</td>\n",
       "      <td>CA</td>\n",
       "      <td>Pacific</td>\n",
       "      <td>DST_on_PRE</td>\n",
       "      <td>2015</td>\n",
       "      <td>3</td>\n",
       "      <td>1</td>\n",
       "      <td>3/1/2015</td>\n",
       "    </tr>\n",
       "    <tr>\n",
       "      <th>4</th>\n",
       "      <td>CA_DST_on</td>\n",
       "      <td>CA</td>\n",
       "      <td>Pacific</td>\n",
       "      <td>DST_on_PRE</td>\n",
       "      <td>2015</td>\n",
       "      <td>3</td>\n",
       "      <td>2</td>\n",
       "      <td>3/2/2015</td>\n",
       "    </tr>\n",
       "  </tbody>\n",
       "</table>\n",
       "</div>"
      ],
      "text/plain": [
       "   GroupName State       tz    DST_Flag  Change_YR  Change_Mo  Change_Day  \\\n",
       "0  CA_DST_on    CA  Pacific  DST_on_PRE       2015          2          26   \n",
       "1  CA_DST_on    CA  Pacific  DST_on_PRE       2015          2          27   \n",
       "2  CA_DST_on    CA  Pacific  DST_on_PRE       2015          2          28   \n",
       "3  CA_DST_on    CA  Pacific  DST_on_PRE       2015          3           1   \n",
       "4  CA_DST_on    CA  Pacific  DST_on_PRE       2015          3           2   \n",
       "\n",
       "   Change_DT  \n",
       "0  2/26/2015  \n",
       "1  2/27/2015  \n",
       "2  2/28/2015  \n",
       "3   3/1/2015  \n",
       "4   3/2/2015  "
      ]
     },
     "execution_count": 4,
     "metadata": {},
     "output_type": "execute_result"
    }
   ],
   "source": [
    "# Read the dst file that contains the exact day light saving time date and categories, and store in a data frame\n",
    "dst_df = pd.read_csv('DST_CA_buckets.csv')\n",
    "dst_df.head()"
   ]
  },
  {
   "cell_type": "markdown",
   "metadata": {},
   "source": [
    "We then prepared our dataframes for merge by matching the column headers for the California data and the buckets.  "
   ]
  },
  {
   "cell_type": "code",
   "execution_count": 5,
   "metadata": {},
   "outputs": [],
   "source": [
    "# change the column names of dst_ca_df to match with ca_df\n",
    "dst_df.rename(columns= {'Change_Mo': 'month', 'Change_YR': 'year', 'Change_Day': 'day'}, inplace = True)\n",
    "\n",
    "# get rid of the columns in dst_ca_df unnecessary for merging\n",
    "dst_cleaned = dst_df[['DST_Flag', 'year', 'month', 'day']]"
   ]
  },
  {
   "cell_type": "code",
   "execution_count": 6,
   "metadata": {},
   "outputs": [
    {
     "data": {
      "text/html": [
       "<div>\n",
       "<style scoped>\n",
       "    .dataframe tbody tr th:only-of-type {\n",
       "        vertical-align: middle;\n",
       "    }\n",
       "\n",
       "    .dataframe tbody tr th {\n",
       "        vertical-align: top;\n",
       "    }\n",
       "\n",
       "    .dataframe thead th {\n",
       "        text-align: right;\n",
       "    }\n",
       "</style>\n",
       "<table border=\"1\" class=\"dataframe\">\n",
       "  <thead>\n",
       "    <tr style=\"text-align: right;\">\n",
       "      <th></th>\n",
       "      <th>Unnamed: 0</th>\n",
       "      <th>ID</th>\n",
       "      <th>Severity</th>\n",
       "      <th>Start_Time</th>\n",
       "      <th>Start_Lat</th>\n",
       "      <th>Start_Lng</th>\n",
       "      <th>Description</th>\n",
       "      <th>City</th>\n",
       "      <th>County</th>\n",
       "      <th>State</th>\n",
       "      <th>...</th>\n",
       "      <th>Station</th>\n",
       "      <th>Stop</th>\n",
       "      <th>Traffic_Signal</th>\n",
       "      <th>Sunrise_Sunset</th>\n",
       "      <th>date</th>\n",
       "      <th>time</th>\n",
       "      <th>year</th>\n",
       "      <th>month</th>\n",
       "      <th>day</th>\n",
       "      <th>DST_Flag</th>\n",
       "    </tr>\n",
       "  </thead>\n",
       "  <tbody>\n",
       "    <tr>\n",
       "      <th>0</th>\n",
       "      <td>1991543</td>\n",
       "      <td>A-1991544</td>\n",
       "      <td>2</td>\n",
       "      <td>2020-10-29 12:15:30</td>\n",
       "      <td>34.199362</td>\n",
       "      <td>-118.396519</td>\n",
       "      <td>Stationary traffic from Vose St to CA-170 N du...</td>\n",
       "      <td>North Hollywood</td>\n",
       "      <td>Los Angeles</td>\n",
       "      <td>CA</td>\n",
       "      <td>...</td>\n",
       "      <td>False</td>\n",
       "      <td>False</td>\n",
       "      <td>False</td>\n",
       "      <td>Day</td>\n",
       "      <td>2020-10-29</td>\n",
       "      <td>12:15:30</td>\n",
       "      <td>2020</td>\n",
       "      <td>10</td>\n",
       "      <td>29</td>\n",
       "      <td>DST_off_PRE</td>\n",
       "    </tr>\n",
       "    <tr>\n",
       "      <th>1</th>\n",
       "      <td>1993694</td>\n",
       "      <td>A-1993695</td>\n",
       "      <td>2</td>\n",
       "      <td>2020-10-29 15:23:00</td>\n",
       "      <td>37.690634</td>\n",
       "      <td>-122.127049</td>\n",
       "      <td>Stationary traffic on I-238 from I-880 (I-238)...</td>\n",
       "      <td>San Lorenzo</td>\n",
       "      <td>Alameda</td>\n",
       "      <td>CA</td>\n",
       "      <td>...</td>\n",
       "      <td>False</td>\n",
       "      <td>False</td>\n",
       "      <td>False</td>\n",
       "      <td>Day</td>\n",
       "      <td>2020-10-29</td>\n",
       "      <td>15:23:00</td>\n",
       "      <td>2020</td>\n",
       "      <td>10</td>\n",
       "      <td>29</td>\n",
       "      <td>DST_off_PRE</td>\n",
       "    </tr>\n",
       "    <tr>\n",
       "      <th>2</th>\n",
       "      <td>2025579</td>\n",
       "      <td>A-2025580</td>\n",
       "      <td>2</td>\n",
       "      <td>2020-10-29 20:17:00</td>\n",
       "      <td>34.065975</td>\n",
       "      <td>-117.507280</td>\n",
       "      <td>I10 W EO ETIWANDA AVE. [Rotation Request Comme...</td>\n",
       "      <td>Fontana</td>\n",
       "      <td>San Bernardino</td>\n",
       "      <td>CA</td>\n",
       "      <td>...</td>\n",
       "      <td>False</td>\n",
       "      <td>False</td>\n",
       "      <td>False</td>\n",
       "      <td>Night</td>\n",
       "      <td>2020-10-29</td>\n",
       "      <td>20:17:00</td>\n",
       "      <td>2020</td>\n",
       "      <td>10</td>\n",
       "      <td>29</td>\n",
       "      <td>DST_off_PRE</td>\n",
       "    </tr>\n",
       "    <tr>\n",
       "      <th>3</th>\n",
       "      <td>1831835</td>\n",
       "      <td>A-1831836</td>\n",
       "      <td>2</td>\n",
       "      <td>2020-10-29 22:59:00</td>\n",
       "      <td>32.896231</td>\n",
       "      <td>-117.115792</td>\n",
       "      <td>Incident on I-15 NB near MIRAMAR RD Expect del...</td>\n",
       "      <td>San Diego</td>\n",
       "      <td>San Diego</td>\n",
       "      <td>CA</td>\n",
       "      <td>...</td>\n",
       "      <td>False</td>\n",
       "      <td>False</td>\n",
       "      <td>False</td>\n",
       "      <td>Night</td>\n",
       "      <td>2020-10-29</td>\n",
       "      <td>22:59:00</td>\n",
       "      <td>2020</td>\n",
       "      <td>10</td>\n",
       "      <td>29</td>\n",
       "      <td>DST_off_PRE</td>\n",
       "    </tr>\n",
       "    <tr>\n",
       "      <th>4</th>\n",
       "      <td>1891858</td>\n",
       "      <td>A-1891859</td>\n",
       "      <td>2</td>\n",
       "      <td>2020-10-29 20:08:30</td>\n",
       "      <td>33.994477</td>\n",
       "      <td>-117.911249</td>\n",
       "      <td>Slow traffic on CA-60 from Fullerton Rd (CA-60...</td>\n",
       "      <td>Rowland Heights</td>\n",
       "      <td>Los Angeles</td>\n",
       "      <td>CA</td>\n",
       "      <td>...</td>\n",
       "      <td>False</td>\n",
       "      <td>False</td>\n",
       "      <td>False</td>\n",
       "      <td>Night</td>\n",
       "      <td>2020-10-29</td>\n",
       "      <td>20:08:30</td>\n",
       "      <td>2020</td>\n",
       "      <td>10</td>\n",
       "      <td>29</td>\n",
       "      <td>DST_off_PRE</td>\n",
       "    </tr>\n",
       "  </tbody>\n",
       "</table>\n",
       "<p>5 rows × 36 columns</p>\n",
       "</div>"
      ],
      "text/plain": [
       "   Unnamed: 0         ID  Severity           Start_Time  Start_Lat  \\\n",
       "0     1991543  A-1991544         2  2020-10-29 12:15:30  34.199362   \n",
       "1     1993694  A-1993695         2  2020-10-29 15:23:00  37.690634   \n",
       "2     2025579  A-2025580         2  2020-10-29 20:17:00  34.065975   \n",
       "3     1831835  A-1831836         2  2020-10-29 22:59:00  32.896231   \n",
       "4     1891858  A-1891859         2  2020-10-29 20:08:30  33.994477   \n",
       "\n",
       "    Start_Lng                                        Description  \\\n",
       "0 -118.396519  Stationary traffic from Vose St to CA-170 N du...   \n",
       "1 -122.127049  Stationary traffic on I-238 from I-880 (I-238)...   \n",
       "2 -117.507280  I10 W EO ETIWANDA AVE. [Rotation Request Comme...   \n",
       "3 -117.115792  Incident on I-15 NB near MIRAMAR RD Expect del...   \n",
       "4 -117.911249  Slow traffic on CA-60 from Fullerton Rd (CA-60...   \n",
       "\n",
       "              City          County State  ... Station   Stop Traffic_Signal  \\\n",
       "0  North Hollywood     Los Angeles    CA  ...   False  False          False   \n",
       "1      San Lorenzo         Alameda    CA  ...   False  False          False   \n",
       "2          Fontana  San Bernardino    CA  ...   False  False          False   \n",
       "3        San Diego       San Diego    CA  ...   False  False          False   \n",
       "4  Rowland Heights     Los Angeles    CA  ...   False  False          False   \n",
       "\n",
       "  Sunrise_Sunset        date      time  year  month  day     DST_Flag  \n",
       "0            Day  2020-10-29  12:15:30  2020     10   29  DST_off_PRE  \n",
       "1            Day  2020-10-29  15:23:00  2020     10   29  DST_off_PRE  \n",
       "2          Night  2020-10-29  20:17:00  2020     10   29  DST_off_PRE  \n",
       "3          Night  2020-10-29  22:59:00  2020     10   29  DST_off_PRE  \n",
       "4          Night  2020-10-29  20:08:30  2020     10   29  DST_off_PRE  \n",
       "\n",
       "[5 rows x 36 columns]"
      ]
     },
     "execution_count": 6,
     "metadata": {},
     "output_type": "execute_result"
    }
   ],
   "source": [
    "merge_ca_df = ca_df.merge(dst_cleaned, how = 'inner', on = ['year', 'month', 'day'])\n",
    "merge_ca_df.head()"
   ]
  },
  {
   "cell_type": "markdown",
   "metadata": {},
   "source": [
    "We then did the same dataframe preparation for Arizona. "
   ]
  },
  {
   "cell_type": "code",
   "execution_count": 7,
   "metadata": {},
   "outputs": [
    {
     "data": {
      "text/html": [
       "<div>\n",
       "<style scoped>\n",
       "    .dataframe tbody tr th:only-of-type {\n",
       "        vertical-align: middle;\n",
       "    }\n",
       "\n",
       "    .dataframe tbody tr th {\n",
       "        vertical-align: top;\n",
       "    }\n",
       "\n",
       "    .dataframe thead th {\n",
       "        text-align: right;\n",
       "    }\n",
       "</style>\n",
       "<table border=\"1\" class=\"dataframe\">\n",
       "  <thead>\n",
       "    <tr style=\"text-align: right;\">\n",
       "      <th></th>\n",
       "      <th>Unnamed: 0</th>\n",
       "      <th>ID</th>\n",
       "      <th>Severity</th>\n",
       "      <th>Start_Time</th>\n",
       "      <th>Start_Lat</th>\n",
       "      <th>Start_Lng</th>\n",
       "      <th>Description</th>\n",
       "      <th>City</th>\n",
       "      <th>County</th>\n",
       "      <th>State</th>\n",
       "      <th>...</th>\n",
       "      <th>Station</th>\n",
       "      <th>Stop</th>\n",
       "      <th>Traffic_Signal</th>\n",
       "      <th>Sunrise_Sunset</th>\n",
       "      <th>date</th>\n",
       "      <th>time</th>\n",
       "      <th>year</th>\n",
       "      <th>month</th>\n",
       "      <th>day</th>\n",
       "      <th>DST_Flag</th>\n",
       "    </tr>\n",
       "  </thead>\n",
       "  <tbody>\n",
       "    <tr>\n",
       "      <th>0</th>\n",
       "      <td>2455631</td>\n",
       "      <td>A-2455632</td>\n",
       "      <td>2</td>\n",
       "      <td>2019-11-12 13:12:36</td>\n",
       "      <td>33.45918</td>\n",
       "      <td>-112.00539</td>\n",
       "      <td>At 32nd St/Exit 1C - Accident. Lane blocked.</td>\n",
       "      <td>Phoenix</td>\n",
       "      <td>Maricopa</td>\n",
       "      <td>AZ</td>\n",
       "      <td>...</td>\n",
       "      <td>False</td>\n",
       "      <td>False</td>\n",
       "      <td>False</td>\n",
       "      <td>Day</td>\n",
       "      <td>2019-11-12</td>\n",
       "      <td>13:12:36</td>\n",
       "      <td>2019</td>\n",
       "      <td>11</td>\n",
       "      <td>12</td>\n",
       "      <td>DST_off_POST</td>\n",
       "    </tr>\n",
       "    <tr>\n",
       "      <th>1</th>\n",
       "      <td>2455633</td>\n",
       "      <td>A-2455634</td>\n",
       "      <td>4</td>\n",
       "      <td>2019-11-12 19:22:19</td>\n",
       "      <td>33.21919</td>\n",
       "      <td>-111.72038</td>\n",
       "      <td>Closed between Higley Rd and Riggs Rd - Road c...</td>\n",
       "      <td>Queen Creek</td>\n",
       "      <td>Maricopa</td>\n",
       "      <td>AZ</td>\n",
       "      <td>...</td>\n",
       "      <td>False</td>\n",
       "      <td>False</td>\n",
       "      <td>True</td>\n",
       "      <td>Night</td>\n",
       "      <td>2019-11-12</td>\n",
       "      <td>19:22:19</td>\n",
       "      <td>2019</td>\n",
       "      <td>11</td>\n",
       "      <td>12</td>\n",
       "      <td>DST_off_POST</td>\n",
       "    </tr>\n",
       "    <tr>\n",
       "      <th>2</th>\n",
       "      <td>2455624</td>\n",
       "      <td>A-2455625</td>\n",
       "      <td>2</td>\n",
       "      <td>2019-11-12 08:03:37</td>\n",
       "      <td>33.40362</td>\n",
       "      <td>-111.96781</td>\n",
       "      <td>At Broadway Rd/52nd St/Exit 153B - Accident. L...</td>\n",
       "      <td>Tempe</td>\n",
       "      <td>Maricopa</td>\n",
       "      <td>AZ</td>\n",
       "      <td>...</td>\n",
       "      <td>False</td>\n",
       "      <td>False</td>\n",
       "      <td>False</td>\n",
       "      <td>Day</td>\n",
       "      <td>2019-11-12</td>\n",
       "      <td>08:03:37</td>\n",
       "      <td>2019</td>\n",
       "      <td>11</td>\n",
       "      <td>12</td>\n",
       "      <td>DST_off_POST</td>\n",
       "    </tr>\n",
       "    <tr>\n",
       "      <th>3</th>\n",
       "      <td>2455623</td>\n",
       "      <td>A-2455624</td>\n",
       "      <td>2</td>\n",
       "      <td>2019-11-12 06:35:04</td>\n",
       "      <td>33.46121</td>\n",
       "      <td>-112.08822</td>\n",
       "      <td>At 7th Ave/Exit 144 - Accident. Lane blocked.</td>\n",
       "      <td>Phoenix</td>\n",
       "      <td>Maricopa</td>\n",
       "      <td>AZ</td>\n",
       "      <td>...</td>\n",
       "      <td>False</td>\n",
       "      <td>False</td>\n",
       "      <td>False</td>\n",
       "      <td>Night</td>\n",
       "      <td>2019-11-12</td>\n",
       "      <td>06:35:04</td>\n",
       "      <td>2019</td>\n",
       "      <td>11</td>\n",
       "      <td>12</td>\n",
       "      <td>DST_off_POST</td>\n",
       "    </tr>\n",
       "    <tr>\n",
       "      <th>4</th>\n",
       "      <td>2455634</td>\n",
       "      <td>A-2455635</td>\n",
       "      <td>4</td>\n",
       "      <td>2019-11-12 19:22:19</td>\n",
       "      <td>33.21937</td>\n",
       "      <td>-111.71486</td>\n",
       "      <td>Closed at Higley Rd - Road closed due to accid...</td>\n",
       "      <td>Gilbert</td>\n",
       "      <td>Maricopa</td>\n",
       "      <td>AZ</td>\n",
       "      <td>...</td>\n",
       "      <td>False</td>\n",
       "      <td>True</td>\n",
       "      <td>False</td>\n",
       "      <td>Night</td>\n",
       "      <td>2019-11-12</td>\n",
       "      <td>19:22:19</td>\n",
       "      <td>2019</td>\n",
       "      <td>11</td>\n",
       "      <td>12</td>\n",
       "      <td>DST_off_POST</td>\n",
       "    </tr>\n",
       "  </tbody>\n",
       "</table>\n",
       "<p>5 rows × 36 columns</p>\n",
       "</div>"
      ],
      "text/plain": [
       "   Unnamed: 0         ID  Severity           Start_Time  Start_Lat  Start_Lng  \\\n",
       "0     2455631  A-2455632         2  2019-11-12 13:12:36   33.45918 -112.00539   \n",
       "1     2455633  A-2455634         4  2019-11-12 19:22:19   33.21919 -111.72038   \n",
       "2     2455624  A-2455625         2  2019-11-12 08:03:37   33.40362 -111.96781   \n",
       "3     2455623  A-2455624         2  2019-11-12 06:35:04   33.46121 -112.08822   \n",
       "4     2455634  A-2455635         4  2019-11-12 19:22:19   33.21937 -111.71486   \n",
       "\n",
       "                                         Description         City    County  \\\n",
       "0       At 32nd St/Exit 1C - Accident. Lane blocked.      Phoenix  Maricopa   \n",
       "1  Closed between Higley Rd and Riggs Rd - Road c...  Queen Creek  Maricopa   \n",
       "2  At Broadway Rd/52nd St/Exit 153B - Accident. L...        Tempe  Maricopa   \n",
       "3      At 7th Ave/Exit 144 - Accident. Lane blocked.      Phoenix  Maricopa   \n",
       "4  Closed at Higley Rd - Road closed due to accid...      Gilbert  Maricopa   \n",
       "\n",
       "  State  ... Station   Stop Traffic_Signal Sunrise_Sunset        date  \\\n",
       "0    AZ  ...   False  False          False            Day  2019-11-12   \n",
       "1    AZ  ...   False  False           True          Night  2019-11-12   \n",
       "2    AZ  ...   False  False          False            Day  2019-11-12   \n",
       "3    AZ  ...   False  False          False          Night  2019-11-12   \n",
       "4    AZ  ...   False   True          False          Night  2019-11-12   \n",
       "\n",
       "       time  year  month  day      DST_Flag  \n",
       "0  13:12:36  2019     11   12  DST_off_POST  \n",
       "1  19:22:19  2019     11   12  DST_off_POST  \n",
       "2  08:03:37  2019     11   12  DST_off_POST  \n",
       "3  06:35:04  2019     11   12  DST_off_POST  \n",
       "4  19:22:19  2019     11   12  DST_off_POST  \n",
       "\n",
       "[5 rows x 36 columns]"
      ]
     },
     "execution_count": 7,
     "metadata": {},
     "output_type": "execute_result"
    }
   ],
   "source": [
    "# Repeat the above steps on Arizona sample csv\n",
    "az_df = pd.read_csv('arizona_sample.csv')\n",
    "merge_az_df = az_df.merge(dst_cleaned, how = 'inner', on = ['year', 'month', 'day'])\n",
    "merge_az_df.head()"
   ]
  },
  {
   "cell_type": "markdown",
   "metadata": {},
   "source": [
    "We combined California and Arizona into one dataframe. "
   ]
  },
  {
   "cell_type": "code",
   "execution_count": 8,
   "metadata": {},
   "outputs": [
    {
     "data": {
      "text/html": [
       "<div>\n",
       "<style scoped>\n",
       "    .dataframe tbody tr th:only-of-type {\n",
       "        vertical-align: middle;\n",
       "    }\n",
       "\n",
       "    .dataframe tbody tr th {\n",
       "        vertical-align: top;\n",
       "    }\n",
       "\n",
       "    .dataframe thead th {\n",
       "        text-align: right;\n",
       "    }\n",
       "</style>\n",
       "<table border=\"1\" class=\"dataframe\">\n",
       "  <thead>\n",
       "    <tr style=\"text-align: right;\">\n",
       "      <th></th>\n",
       "      <th>Unnamed: 0</th>\n",
       "      <th>Severity</th>\n",
       "      <th>Start_Lat</th>\n",
       "      <th>Start_Lng</th>\n",
       "      <th>Temperature(F)</th>\n",
       "      <th>Wind_Chill(F)</th>\n",
       "      <th>Humidity(%)</th>\n",
       "      <th>Pressure(in)</th>\n",
       "      <th>Visibility(mi)</th>\n",
       "      <th>Wind_Speed(mph)</th>\n",
       "      <th>Precipitation(in)</th>\n",
       "      <th>year</th>\n",
       "      <th>month</th>\n",
       "      <th>day</th>\n",
       "    </tr>\n",
       "  </thead>\n",
       "  <tbody>\n",
       "    <tr>\n",
       "      <th>count</th>\n",
       "      <td>4.074600e+04</td>\n",
       "      <td>40746.000000</td>\n",
       "      <td>40746.000000</td>\n",
       "      <td>40746.000000</td>\n",
       "      <td>39382.000000</td>\n",
       "      <td>34659.000000</td>\n",
       "      <td>39322.000000</td>\n",
       "      <td>39642.000000</td>\n",
       "      <td>39653.000000</td>\n",
       "      <td>38336.000000</td>\n",
       "      <td>32733.000000</td>\n",
       "      <td>40746.000000</td>\n",
       "      <td>40746.000000</td>\n",
       "      <td>40746.000000</td>\n",
       "    </tr>\n",
       "    <tr>\n",
       "      <th>mean</th>\n",
       "      <td>1.568969e+06</td>\n",
       "      <td>2.054361</td>\n",
       "      <td>35.261743</td>\n",
       "      <td>-118.311742</td>\n",
       "      <td>62.705716</td>\n",
       "      <td>62.089206</td>\n",
       "      <td>54.286023</td>\n",
       "      <td>29.381089</td>\n",
       "      <td>8.931393</td>\n",
       "      <td>5.426959</td>\n",
       "      <td>0.002959</td>\n",
       "      <td>2019.956217</td>\n",
       "      <td>8.172900</td>\n",
       "      <td>12.893413</td>\n",
       "    </tr>\n",
       "    <tr>\n",
       "      <th>std</th>\n",
       "      <td>7.992744e+05</td>\n",
       "      <td>0.295447</td>\n",
       "      <td>2.137061</td>\n",
       "      <td>3.225973</td>\n",
       "      <td>12.049578</td>\n",
       "      <td>12.733141</td>\n",
       "      <td>26.916695</td>\n",
       "      <td>1.042357</td>\n",
       "      <td>3.110715</td>\n",
       "      <td>4.895527</td>\n",
       "      <td>0.019389</td>\n",
       "      <td>1.214304</td>\n",
       "      <td>3.665813</td>\n",
       "      <td>9.100360</td>\n",
       "    </tr>\n",
       "    <tr>\n",
       "      <th>min</th>\n",
       "      <td>9.259300e+04</td>\n",
       "      <td>2.000000</td>\n",
       "      <td>31.337170</td>\n",
       "      <td>-124.349517</td>\n",
       "      <td>-5.100000</td>\n",
       "      <td>-10.000000</td>\n",
       "      <td>1.000000</td>\n",
       "      <td>22.820000</td>\n",
       "      <td>0.000000</td>\n",
       "      <td>0.000000</td>\n",
       "      <td>0.000000</td>\n",
       "      <td>2016.000000</td>\n",
       "      <td>2.000000</td>\n",
       "      <td>1.000000</td>\n",
       "    </tr>\n",
       "    <tr>\n",
       "      <th>25%</th>\n",
       "      <td>8.544572e+05</td>\n",
       "      <td>2.000000</td>\n",
       "      <td>33.854404</td>\n",
       "      <td>-121.261306</td>\n",
       "      <td>55.000000</td>\n",
       "      <td>54.000000</td>\n",
       "      <td>30.000000</td>\n",
       "      <td>29.060000</td>\n",
       "      <td>10.000000</td>\n",
       "      <td>0.000000</td>\n",
       "      <td>0.000000</td>\n",
       "      <td>2019.000000</td>\n",
       "      <td>3.000000</td>\n",
       "      <td>6.000000</td>\n",
       "    </tr>\n",
       "    <tr>\n",
       "      <th>50%</th>\n",
       "      <td>1.809038e+06</td>\n",
       "      <td>2.000000</td>\n",
       "      <td>34.118496</td>\n",
       "      <td>-118.248952</td>\n",
       "      <td>62.000000</td>\n",
       "      <td>61.000000</td>\n",
       "      <td>57.000000</td>\n",
       "      <td>29.830000</td>\n",
       "      <td>10.000000</td>\n",
       "      <td>5.000000</td>\n",
       "      <td>0.000000</td>\n",
       "      <td>2020.000000</td>\n",
       "      <td>10.000000</td>\n",
       "      <td>10.000000</td>\n",
       "    </tr>\n",
       "    <tr>\n",
       "      <th>75%</th>\n",
       "      <td>2.287806e+06</td>\n",
       "      <td>2.000000</td>\n",
       "      <td>37.425522</td>\n",
       "      <td>-117.409471</td>\n",
       "      <td>70.000000</td>\n",
       "      <td>70.000000</td>\n",
       "      <td>77.000000</td>\n",
       "      <td>29.980000</td>\n",
       "      <td>10.000000</td>\n",
       "      <td>8.000000</td>\n",
       "      <td>0.000000</td>\n",
       "      <td>2021.000000</td>\n",
       "      <td>11.000000</td>\n",
       "      <td>18.000000</td>\n",
       "    </tr>\n",
       "    <tr>\n",
       "      <th>max</th>\n",
       "      <td>2.746858e+06</td>\n",
       "      <td>4.000000</td>\n",
       "      <td>42.005278</td>\n",
       "      <td>-109.054487</td>\n",
       "      <td>102.000000</td>\n",
       "      <td>102.000000</td>\n",
       "      <td>100.000000</td>\n",
       "      <td>30.520000</td>\n",
       "      <td>100.000000</td>\n",
       "      <td>105.000000</td>\n",
       "      <td>0.480000</td>\n",
       "      <td>2021.000000</td>\n",
       "      <td>11.000000</td>\n",
       "      <td>31.000000</td>\n",
       "    </tr>\n",
       "  </tbody>\n",
       "</table>\n",
       "</div>"
      ],
      "text/plain": [
       "         Unnamed: 0      Severity     Start_Lat     Start_Lng  Temperature(F)  \\\n",
       "count  4.074600e+04  40746.000000  40746.000000  40746.000000    39382.000000   \n",
       "mean   1.568969e+06      2.054361     35.261743   -118.311742       62.705716   \n",
       "std    7.992744e+05      0.295447      2.137061      3.225973       12.049578   \n",
       "min    9.259300e+04      2.000000     31.337170   -124.349517       -5.100000   \n",
       "25%    8.544572e+05      2.000000     33.854404   -121.261306       55.000000   \n",
       "50%    1.809038e+06      2.000000     34.118496   -118.248952       62.000000   \n",
       "75%    2.287806e+06      2.000000     37.425522   -117.409471       70.000000   \n",
       "max    2.746858e+06      4.000000     42.005278   -109.054487      102.000000   \n",
       "\n",
       "       Wind_Chill(F)   Humidity(%)  Pressure(in)  Visibility(mi)  \\\n",
       "count   34659.000000  39322.000000  39642.000000    39653.000000   \n",
       "mean       62.089206     54.286023     29.381089        8.931393   \n",
       "std        12.733141     26.916695      1.042357        3.110715   \n",
       "min       -10.000000      1.000000     22.820000        0.000000   \n",
       "25%        54.000000     30.000000     29.060000       10.000000   \n",
       "50%        61.000000     57.000000     29.830000       10.000000   \n",
       "75%        70.000000     77.000000     29.980000       10.000000   \n",
       "max       102.000000    100.000000     30.520000      100.000000   \n",
       "\n",
       "       Wind_Speed(mph)  Precipitation(in)          year         month  \\\n",
       "count     38336.000000       32733.000000  40746.000000  40746.000000   \n",
       "mean          5.426959           0.002959   2019.956217      8.172900   \n",
       "std           4.895527           0.019389      1.214304      3.665813   \n",
       "min           0.000000           0.000000   2016.000000      2.000000   \n",
       "25%           0.000000           0.000000   2019.000000      3.000000   \n",
       "50%           5.000000           0.000000   2020.000000     10.000000   \n",
       "75%           8.000000           0.000000   2021.000000     11.000000   \n",
       "max         105.000000           0.480000   2021.000000     11.000000   \n",
       "\n",
       "                day  \n",
       "count  40746.000000  \n",
       "mean      12.893413  \n",
       "std        9.100360  \n",
       "min        1.000000  \n",
       "25%        6.000000  \n",
       "50%       10.000000  \n",
       "75%       18.000000  \n",
       "max       31.000000  "
      ]
     },
     "execution_count": 8,
     "metadata": {},
     "output_type": "execute_result"
    }
   ],
   "source": [
    "# Concatenate the California dataframe and Arizona data frame into one\n",
    "frames = [merge_az_df, merge_ca_df]\n",
    "complete_df = pd.concat(frames)\n",
    "complete_df\n",
    "complete_df.columns\n",
    "complete_df.describe()\n",
    "\n"
   ]
  },
  {
   "cell_type": "code",
   "execution_count": 9,
   "metadata": {},
   "outputs": [
    {
     "data": {
      "text/plain": [
       "numpy.ndarray"
      ]
     },
     "execution_count": 9,
     "metadata": {},
     "output_type": "execute_result"
    }
   ],
   "source": [
    "type(merge_ca_df['DST_Flag'].unique())"
   ]
  },
  {
   "cell_type": "markdown",
   "metadata": {},
   "source": [
    "# Compare Severity"
   ]
  },
  {
   "cell_type": "markdown",
   "metadata": {},
   "source": [
    "We found that in this data set, the severity of each accident is shown. The severity is based on a scale of 1 to 4, where 1 indicates the least impact on traffic and 4 indicates a significant impact on traffic. We took at this data column to see if there is a significant difference in accident severity in our 4 time frames."
   ]
  },
  {
   "cell_type": "code",
   "execution_count": 11,
   "metadata": {},
   "outputs": [
    {
     "data": {
      "text/plain": [
       "2    34023\n",
       "3      557\n",
       "4      292\n",
       "Name: Severity, dtype: int64"
      ]
     },
     "execution_count": 11,
     "metadata": {},
     "output_type": "execute_result"
    }
   ],
   "source": [
    "# Counts of each severity by 1-4 scale\n",
    "merge_ca_df['Severity'].value_counts()"
   ]
  },
  {
   "cell_type": "code",
   "execution_count": 12,
   "metadata": {},
   "outputs": [],
   "source": [
    "# Grouping the severity by the DST_Flag status.\n",
    "\n",
    "group0 = merge_ca_df[merge_ca_df[\"DST_Flag\"] == 'DST_off_POST' ][\"Severity\"]\n",
    "group1 = merge_ca_df[merge_ca_df[\"DST_Flag\"] == 'DST_off_PRE' ][\"Severity\"]\n",
    "group2 = merge_ca_df[merge_ca_df[\"DST_Flag\"] == 'DST_on_POST' ][\"Severity\"]\n",
    "group3 = merge_ca_df[merge_ca_df[\"DST_Flag\"] == 'DST_on_PRE' ][\"Severity\"]"
   ]
  },
  {
   "cell_type": "markdown",
   "metadata": {},
   "source": [
    "Statistical analysis of severity in spring for California:\n",
    "This showed no significant diffrence. (see pvalue)"
   ]
  },
  {
   "cell_type": "code",
   "execution_count": 13,
   "metadata": {},
   "outputs": [
    {
     "data": {
      "text/plain": [
       "Ttest_indResult(statistic=1.5349062703168423, pvalue=0.12483377481522151)"
      ]
     },
     "execution_count": 13,
     "metadata": {},
     "output_type": "execute_result"
    }
   ],
   "source": [
    "# T test between DST on pre and DST on post, spring, compare the severity.\n",
    "\n",
    "stats.ttest_ind(group3, group2, equal_var=False)\n"
   ]
  },
  {
   "cell_type": "markdown",
   "metadata": {},
   "source": [
    "Statistical analysis of severity in fall for California:\n",
    "This showed no significant diffrence. (see pvalue)"
   ]
  },
  {
   "cell_type": "code",
   "execution_count": 14,
   "metadata": {},
   "outputs": [
    {
     "data": {
      "text/plain": [
       "Ttest_indResult(statistic=-1.3521466694263538, pvalue=0.1763420859618193)"
      ]
     },
     "execution_count": 14,
     "metadata": {},
     "output_type": "execute_result"
    }
   ],
   "source": [
    "# T test between DST off pre and DST off post, fall, compare the severity.\n",
    "\n",
    "stats.ttest_ind(group0, group1, equal_var=False)"
   ]
  },
  {
   "cell_type": "markdown",
   "metadata": {},
   "source": [
    "We then looked at graphs of the number of different severity accidents in California. We also did some statical analysis on this specific data."
   ]
  },
  {
   "cell_type": "code",
   "execution_count": 42,
   "metadata": {},
   "outputs": [
    {
     "data": {
      "text/plain": [
       "Text(0.5, 1.0, 'Number of Level 2 Severity Accidents in California')"
      ]
     },
     "execution_count": 42,
     "metadata": {},
     "output_type": "execute_result"
    },
    {
     "data": {
      "image/png": "[encoded data removed]",
      "text/plain": [
       "<Figure size 432x288 with 1 Axes>"
      ]
     },
     "metadata": {
      "needs_background": "light"
     },
     "output_type": "display_data"
    }
   ],
   "source": [
    "# count how many severe accidents across four groups, we consider the lowest level of severity reported = 2.\n",
    "sev_count_2 = merge_ca_df[merge_ca_df['Severity'] == 2]['DST_Flag'].value_counts()\n",
    "sev_count_2 = sev_count_2.reindex(new_order)\n",
    "plt.xticks(np.arange(4), xticks)\n",
    "plt.bar(sev_count_2.index, sev_count_2, color = 'b')\n",
    "plt.ylabel('Number of Level 2 Severity Accidents')\n",
    "plt.title('Number of Level 2 Severity Accidents in California')\n"
   ]
  },
  {
   "cell_type": "code",
   "execution_count": null,
   "metadata": {},
   "outputs": [],
   "source": [
    "# *********** this needs to be changed to an analysis of severity 2\n",
    "# Null Hypothesis: There is no difference in the number of severe (severity = 2) accidents 10 days before daylight savings \n",
    "#  time change and 10 days after daylight savings time change.   \n",
    "# Alternate Hypothesis: There is a significant increase in the number of severe (severity = 2) accidents 10 days after \n",
    "#  a change in daylight savings time versus 10 days before the change.\n",
    "# we ran a chi-square test:\n",
    "expected = sev_count_2[Spr_pre_dst].sum()/2\n",
    "observed = pd.Series(sev_count)\n",
    "chi_df = pd.DataFrame([observed]).T\n",
    "chi_df[1] = expected\n",
    "chi_df.columns = [\"observed\", \"expected\"]\n",
    "chi_df"
   ]
  },
  {
   "cell_type": "code",
   "execution_count": null,
   "metadata": {},
   "outputs": [],
   "source": [
    "# *********** this needs to be changed to an analysis of severity 2\n",
    "critical_value = stats.chi2.ppf(q = 0.95, df = 3)\n",
    "critical_value"
   ]
  },
  {
   "cell_type": "code",
   "execution_count": null,
   "metadata": {},
   "outputs": [],
   "source": [
    "# *********** this needs to be changed to an analysis of severity 2\n",
    "# Run the chi square test with stats.chisquare()\n",
    "stats.chisquare(chi_df['observed'], chi_df['expected'])\n",
    "\n",
    "# Lowest severity"
   ]
  },
  {
   "cell_type": "code",
   "execution_count": 38,
   "metadata": {},
   "outputs": [
    {
     "data": {
      "text/plain": [
       "Text(0.5, 1.0, 'Number of Level 4 Severity Accidents in California')"
      ]
     },
     "execution_count": 38,
     "metadata": {},
     "output_type": "execute_result"
    },
    {
     "data": {
      "image/png": "[encoded data removed]",
      "text/plain": [
       "<Figure size 432x288 with 1 Axes>"
      ]
     },
     "metadata": {
      "needs_background": "light"
     },
     "output_type": "display_data"
    }
   ],
   "source": [
    "# count how many severe accidents across four groups, we consider the highest level of severity reported = 4. \n",
    "sev_count = merge_ca_df[merge_ca_df['Severity'] == 4]['DST_Flag'].value_counts()\n",
    "sev_count = sev_count.reindex(new_order)\n",
    "plt.xticks(np.arange(4), xticks)\n",
    "plt.bar(sev_count.index, sev_count, color = 'r')\n",
    "plt.ylabel('Number of Level 4 Severity Accidents')\n",
    "plt.title('Number of Level 4 Severity Accidents in California')"
   ]
  },
  {
   "cell_type": "code",
   "execution_count": 23,
   "metadata": {},
   "outputs": [
    {
     "data": {
      "text/html": [
       "<div>\n",
       "<style scoped>\n",
       "    .dataframe tbody tr th:only-of-type {\n",
       "        vertical-align: middle;\n",
       "    }\n",
       "\n",
       "    .dataframe tbody tr th {\n",
       "        vertical-align: top;\n",
       "    }\n",
       "\n",
       "    .dataframe thead th {\n",
       "        text-align: right;\n",
       "    }\n",
       "</style>\n",
       "<table border=\"1\" class=\"dataframe\">\n",
       "  <thead>\n",
       "    <tr style=\"text-align: right;\">\n",
       "      <th></th>\n",
       "      <th>observed</th>\n",
       "      <th>expected</th>\n",
       "    </tr>\n",
       "  </thead>\n",
       "  <tbody>\n",
       "    <tr>\n",
       "      <th>DST_on_PRE</th>\n",
       "      <td>66</td>\n",
       "      <td>73.0</td>\n",
       "    </tr>\n",
       "    <tr>\n",
       "      <th>DST_on_POST</th>\n",
       "      <td>67</td>\n",
       "      <td>73.0</td>\n",
       "    </tr>\n",
       "    <tr>\n",
       "      <th>DST_off_PRE</th>\n",
       "      <td>73</td>\n",
       "      <td>73.0</td>\n",
       "    </tr>\n",
       "    <tr>\n",
       "      <th>DST_off_POST</th>\n",
       "      <td>86</td>\n",
       "      <td>73.0</td>\n",
       "    </tr>\n",
       "  </tbody>\n",
       "</table>\n",
       "</div>"
      ],
      "text/plain": [
       "              observed  expected\n",
       "DST_on_PRE          66      73.0\n",
       "DST_on_POST         67      73.0\n",
       "DST_off_PRE         73      73.0\n",
       "DST_off_POST        86      73.0"
      ]
     },
     "execution_count": 23,
     "metadata": {},
     "output_type": "execute_result"
    }
   ],
   "source": [
    "# Null Hypothesis: There is no difference in the number of severe (severity = 4) accidents 10 days before daylight savings time change and 10 days after daylight savings time change.   \n",
    "# Alternate Hypothesis: There is a significant increase in the number of severe (severity = 4) accidents 10 days after a change in daylight savings time versus 10 days before the change.\n",
    "# we run a chi-sqare test:\n",
    "expected = sev_count.sum()/4\n",
    "observed = pd.Series(sev_count)\n",
    "chi_df = pd.DataFrame([observed]).T\n",
    "chi_df[1] = expected\n",
    "chi_df.columns = [\"observed\", \"expected\"]\n",
    "chi_df"
   ]
  },
  {
   "cell_type": "code",
   "execution_count": 24,
   "metadata": {},
   "outputs": [
    {
     "data": {
      "text/plain": [
       "7.814727903251179"
      ]
     },
     "execution_count": 24,
     "metadata": {},
     "output_type": "execute_result"
    }
   ],
   "source": [
    "critical_value = stats.chi2.ppf(q = 0.95, df = 3)\n",
    "critical_value"
   ]
  },
  {
   "cell_type": "code",
   "execution_count": 25,
   "metadata": {},
   "outputs": [
    {
     "data": {
      "text/plain": [
       "Power_divergenceResult(statistic=3.4794520547945202, pvalue=0.3234369152411728)"
      ]
     },
     "execution_count": 25,
     "metadata": {},
     "output_type": "execute_result"
    }
   ],
   "source": [
    "# Run the chi square test with stats.chisquare()\n",
    "stats.chisquare(chi_df['observed'], chi_df['expected'])\n",
    "\n",
    "# Highest severity"
   ]
  },
  {
   "cell_type": "markdown",
   "metadata": {},
   "source": [
    "# Compare Frequency"
   ]
  },
  {
   "cell_type": "code",
   "execution_count": 15,
   "metadata": {},
   "outputs": [],
   "source": [
    "ca_groupby_df = merge_ca_df.groupby('DST_Flag').count()\n"
   ]
  },
  {
   "cell_type": "code",
   "execution_count": 16,
   "metadata": {},
   "outputs": [
    {
     "data": {
      "text/html": [
       "<div>\n",
       "<style scoped>\n",
       "    .dataframe tbody tr th:only-of-type {\n",
       "        vertical-align: middle;\n",
       "    }\n",
       "\n",
       "    .dataframe tbody tr th {\n",
       "        vertical-align: top;\n",
       "    }\n",
       "\n",
       "    .dataframe thead th {\n",
       "        text-align: right;\n",
       "    }\n",
       "</style>\n",
       "<table border=\"1\" class=\"dataframe\">\n",
       "  <thead>\n",
       "    <tr style=\"text-align: right;\">\n",
       "      <th></th>\n",
       "      <th>Unnamed: 0</th>\n",
       "      <th>ID</th>\n",
       "      <th>Severity</th>\n",
       "      <th>Start_Time</th>\n",
       "      <th>Start_Lat</th>\n",
       "      <th>Start_Lng</th>\n",
       "      <th>Description</th>\n",
       "      <th>City</th>\n",
       "      <th>County</th>\n",
       "      <th>State</th>\n",
       "      <th>...</th>\n",
       "      <th>No_Exit</th>\n",
       "      <th>Station</th>\n",
       "      <th>Stop</th>\n",
       "      <th>Traffic_Signal</th>\n",
       "      <th>Sunrise_Sunset</th>\n",
       "      <th>date</th>\n",
       "      <th>time</th>\n",
       "      <th>year</th>\n",
       "      <th>month</th>\n",
       "      <th>day</th>\n",
       "    </tr>\n",
       "    <tr>\n",
       "      <th>DST_Flag</th>\n",
       "      <th></th>\n",
       "      <th></th>\n",
       "      <th></th>\n",
       "      <th></th>\n",
       "      <th></th>\n",
       "      <th></th>\n",
       "      <th></th>\n",
       "      <th></th>\n",
       "      <th></th>\n",
       "      <th></th>\n",
       "      <th></th>\n",
       "      <th></th>\n",
       "      <th></th>\n",
       "      <th></th>\n",
       "      <th></th>\n",
       "      <th></th>\n",
       "      <th></th>\n",
       "      <th></th>\n",
       "      <th></th>\n",
       "      <th></th>\n",
       "      <th></th>\n",
       "    </tr>\n",
       "  </thead>\n",
       "  <tbody>\n",
       "    <tr>\n",
       "      <th>DST_on_PRE</th>\n",
       "      <td>5849</td>\n",
       "      <td>5849</td>\n",
       "      <td>5849</td>\n",
       "      <td>5849</td>\n",
       "      <td>5849</td>\n",
       "      <td>5849</td>\n",
       "      <td>5849</td>\n",
       "      <td>5849</td>\n",
       "      <td>5849</td>\n",
       "      <td>5849</td>\n",
       "      <td>...</td>\n",
       "      <td>5849</td>\n",
       "      <td>5849</td>\n",
       "      <td>5849</td>\n",
       "      <td>5849</td>\n",
       "      <td>5849</td>\n",
       "      <td>5849</td>\n",
       "      <td>5849</td>\n",
       "      <td>5849</td>\n",
       "      <td>5849</td>\n",
       "      <td>5849</td>\n",
       "    </tr>\n",
       "    <tr>\n",
       "      <th>DST_on_POST</th>\n",
       "      <td>5960</td>\n",
       "      <td>5960</td>\n",
       "      <td>5960</td>\n",
       "      <td>5960</td>\n",
       "      <td>5960</td>\n",
       "      <td>5960</td>\n",
       "      <td>5960</td>\n",
       "      <td>5959</td>\n",
       "      <td>5960</td>\n",
       "      <td>5960</td>\n",
       "      <td>...</td>\n",
       "      <td>5960</td>\n",
       "      <td>5960</td>\n",
       "      <td>5960</td>\n",
       "      <td>5960</td>\n",
       "      <td>5959</td>\n",
       "      <td>5960</td>\n",
       "      <td>5960</td>\n",
       "      <td>5960</td>\n",
       "      <td>5960</td>\n",
       "      <td>5960</td>\n",
       "    </tr>\n",
       "    <tr>\n",
       "      <th>DST_off_PRE</th>\n",
       "      <td>10723</td>\n",
       "      <td>10723</td>\n",
       "      <td>10723</td>\n",
       "      <td>10723</td>\n",
       "      <td>10723</td>\n",
       "      <td>10723</td>\n",
       "      <td>10723</td>\n",
       "      <td>10723</td>\n",
       "      <td>10723</td>\n",
       "      <td>10723</td>\n",
       "      <td>...</td>\n",
       "      <td>10723</td>\n",
       "      <td>10723</td>\n",
       "      <td>10723</td>\n",
       "      <td>10723</td>\n",
       "      <td>10723</td>\n",
       "      <td>10723</td>\n",
       "      <td>10723</td>\n",
       "      <td>10723</td>\n",
       "      <td>10723</td>\n",
       "      <td>10723</td>\n",
       "    </tr>\n",
       "    <tr>\n",
       "      <th>DST_off_POST</th>\n",
       "      <td>12340</td>\n",
       "      <td>12340</td>\n",
       "      <td>12340</td>\n",
       "      <td>12340</td>\n",
       "      <td>12340</td>\n",
       "      <td>12340</td>\n",
       "      <td>12340</td>\n",
       "      <td>12340</td>\n",
       "      <td>12340</td>\n",
       "      <td>12340</td>\n",
       "      <td>...</td>\n",
       "      <td>12340</td>\n",
       "      <td>12340</td>\n",
       "      <td>12340</td>\n",
       "      <td>12340</td>\n",
       "      <td>12340</td>\n",
       "      <td>12340</td>\n",
       "      <td>12340</td>\n",
       "      <td>12340</td>\n",
       "      <td>12340</td>\n",
       "      <td>12340</td>\n",
       "    </tr>\n",
       "  </tbody>\n",
       "</table>\n",
       "<p>4 rows × 35 columns</p>\n",
       "</div>"
      ],
      "text/plain": [
       "              Unnamed: 0     ID  Severity  Start_Time  Start_Lat  Start_Lng  \\\n",
       "DST_Flag                                                                      \n",
       "DST_on_PRE          5849   5849      5849        5849       5849       5849   \n",
       "DST_on_POST         5960   5960      5960        5960       5960       5960   \n",
       "DST_off_PRE        10723  10723     10723       10723      10723      10723   \n",
       "DST_off_POST       12340  12340     12340       12340      12340      12340   \n",
       "\n",
       "              Description   City  County  State  ...  No_Exit  Station   Stop  \\\n",
       "DST_Flag                                         ...                            \n",
       "DST_on_PRE           5849   5849    5849   5849  ...     5849     5849   5849   \n",
       "DST_on_POST          5960   5959    5960   5960  ...     5960     5960   5960   \n",
       "DST_off_PRE         10723  10723   10723  10723  ...    10723    10723  10723   \n",
       "DST_off_POST        12340  12340   12340  12340  ...    12340    12340  12340   \n",
       "\n",
       "              Traffic_Signal  Sunrise_Sunset   date   time   year  month  \\\n",
       "DST_Flag                                                                   \n",
       "DST_on_PRE              5849            5849   5849   5849   5849   5849   \n",
       "DST_on_POST             5960            5959   5960   5960   5960   5960   \n",
       "DST_off_PRE            10723           10723  10723  10723  10723  10723   \n",
       "DST_off_POST           12340           12340  12340  12340  12340  12340   \n",
       "\n",
       "                day  \n",
       "DST_Flag             \n",
       "DST_on_PRE     5849  \n",
       "DST_on_POST    5960  \n",
       "DST_off_PRE   10723  \n",
       "DST_off_POST  12340  \n",
       "\n",
       "[4 rows x 35 columns]"
      ]
     },
     "execution_count": 16,
     "metadata": {},
     "output_type": "execute_result"
    }
   ],
   "source": [
    "new_order = ['DST_on_PRE', 'DST_on_POST','DST_off_PRE','DST_off_POST']\n",
    "ca_groupby_df = ca_groupby_df.reindex(new_order)\n",
    "ca_groupby_df"
   ]
  },
  {
   "cell_type": "code",
   "execution_count": 17,
   "metadata": {},
   "outputs": [
    {
     "data": {
      "text/plain": [
       "Text(0.5, 1.0, 'Total Number of Accidents in California')"
      ]
     },
     "execution_count": 17,
     "metadata": {},
     "output_type": "execute_result"
    },
    {
     "data": {
      "image/png": "[encoded data removed]",
      "text/plain": [
       "<Figure size 432x288 with 1 Axes>"
      ]
     },
     "metadata": {
      "needs_background": "light"
     },
     "output_type": "display_data"
    }
   ],
   "source": [
    "# First we considered the total number of accident for four conditions and plot a bar graph. \n",
    "colors = ['g', 'g', 'orange', 'orange']\n",
    "plt.bar(ca_groupby_df.index, ca_groupby_df['ID'], color = colors)\n",
    "xticks = ['Spr_pre_dst', 'Spr_post_dst', 'Fall_pre_dst', 'Fall_post_dst']\n",
    "plt.xticks(np.arange(4), xticks)\n",
    "plt.ylabel('Total Number of Accidents')\n",
    "plt.title('Total Number of Accidents in California')\n"
   ]
  },
  {
   "cell_type": "code",
   "execution_count": null,
   "metadata": {},
   "outputs": [],
   "source": [
    "# ******Line graph for spring in California\n",
    "\n"
   ]
  },
  {
   "cell_type": "code",
   "execution_count": null,
   "metadata": {},
   "outputs": [],
   "source": [
    "# ******Line graph for fall in California\n",
    "\n"
   ]
  },
  {
   "cell_type": "code",
   "execution_count": 18,
   "metadata": {},
   "outputs": [
    {
     "data": {
      "text/plain": [
       "3.841458820694124"
      ]
     },
     "execution_count": 18,
     "metadata": {},
     "output_type": "execute_result"
    }
   ],
   "source": [
    "# Only compare the Fall accident number using chi-squre test: \n",
    "observed_fall = [10723, 12340]\n",
    "expected_fall = 11531.5\n",
    "chi_df_fall = pd.DataFrame([observed_fall]).T\n",
    "chi_df_fall[1] = expected_fall\n",
    "chi_df_fall.columns = [\"observed_fall\", \"expected_fall\"]\n",
    "chi_df_fall\n",
    "\n",
    "critical_value_fall = stats.chi2.ppf(q = 0.95, df = 1)\n",
    "critical_value_fall"
   ]
  },
  {
   "cell_type": "code",
   "execution_count": 19,
   "metadata": {},
   "outputs": [
    {
     "data": {
      "text/plain": [
       "Power_divergenceResult(statistic=113.37159085981875, pvalue=1.788998918858161e-26)"
      ]
     },
     "execution_count": 19,
     "metadata": {},
     "output_type": "execute_result"
    }
   ],
   "source": [
    "stats.chisquare(chi_df_fall['observed_fall'], chi_df_fall['expected_fall'])\n",
    "\n",
    "# Since the chi square value of 113.37 exceeds the critical value of 3.841, we conclude that the results are statistically significant."
   ]
  },
  {
   "cell_type": "code",
   "execution_count": 20,
   "metadata": {},
   "outputs": [
    {
     "data": {
      "text/plain": [
       "3.841458820694124"
      ]
     },
     "execution_count": 20,
     "metadata": {},
     "output_type": "execute_result"
    }
   ],
   "source": [
    "# Only compare the Fall accident number using chi-squre test: \n",
    "observed_spring = [5849, 5960]\n",
    "expected_spring = 5904.5\n",
    "chi_df_spring = pd.DataFrame([observed_spring]).T\n",
    "chi_df_spring[1] = expected_spring\n",
    "chi_df_spring.columns = [\"observed_spring\", \"expected_spring\"]\n",
    "chi_df_spring\n",
    "\n",
    "critical_value_spring = stats.chi2.ppf(q = 0.95, df = 1)\n",
    "critical_value_spring"
   ]
  },
  {
   "cell_type": "code",
   "execution_count": 21,
   "metadata": {},
   "outputs": [
    {
     "data": {
      "text/plain": [
       "Power_divergenceResult(statistic=1.0433567617918538, pvalue=0.3070420610233171)"
      ]
     },
     "execution_count": 21,
     "metadata": {},
     "output_type": "execute_result"
    }
   ],
   "source": [
    "stats.chisquare(chi_df_spring['observed_spring'], chi_df_spring['expected_spring'])\n",
    "\n",
    "# Since the chi square value of 1.0433 smaller than the critical value of 3.841, we conclude that the results are not statistically significant."
   ]
  },
  {
   "cell_type": "markdown",
   "metadata": {},
   "source": [
    "# AZ as Control"
   ]
  },
  {
   "cell_type": "code",
   "execution_count": 26,
   "metadata": {},
   "outputs": [
    {
     "data": {
      "text/plain": [
       "Text(0.5, 1.0, 'Total Number of Accidents in Arizona')"
      ]
     },
     "execution_count": 26,
     "metadata": {},
     "output_type": "execute_result"
    },
    {
     "data": {
      "image/png": "[encoded data removed]",
      "text/plain": [
       "<Figure size 432x288 with 1 Axes>"
      ]
     },
     "metadata": {
      "needs_background": "light"
     },
     "output_type": "display_data"
    }
   ],
   "source": [
    "az_groupby_df = merge_az_df.groupby('DST_Flag').count()\n",
    "\n",
    "new_order = ['DST_on_PRE', 'DST_on_POST','DST_off_PRE','DST_off_POST']\n",
    "az_groupby_df = az_groupby_df.reindex(new_order)\n",
    "az_groupby_df\n",
    "\n",
    "colors = ['g', 'g', 'orange', 'orange']\n",
    "plt.bar(az_groupby_df.index, az_groupby_df['ID'], color = colors)\n",
    "xticks = ['Spr_pre_dst', 'Spr_post_dst', 'Fall_pre_dst', 'Fall_post_dst']\n",
    "plt.xticks(np.arange(4), xticks)\n",
    "plt.ylabel('Total Number of Accidents')\n",
    "plt.title('Total Number of Accidents in Arizona')"
   ]
  },
  {
   "cell_type": "code",
   "execution_count": null,
   "metadata": {},
   "outputs": [],
   "source": [
    "# Line graph for spring in Arizona \n",
    "\n"
   ]
  },
  {
   "cell_type": "code",
   "execution_count": null,
   "metadata": {},
   "outputs": [],
   "source": [
    "#Line graph for fall in Arizona\n",
    "\n"
   ]
  },
  {
   "cell_type": "code",
   "execution_count": 27,
   "metadata": {},
   "outputs": [
    {
     "data": {
      "text/html": [
       "<div>\n",
       "<style scoped>\n",
       "    .dataframe tbody tr th:only-of-type {\n",
       "        vertical-align: middle;\n",
       "    }\n",
       "\n",
       "    .dataframe tbody tr th {\n",
       "        vertical-align: top;\n",
       "    }\n",
       "\n",
       "    .dataframe thead th {\n",
       "        text-align: right;\n",
       "    }\n",
       "</style>\n",
       "<table border=\"1\" class=\"dataframe\">\n",
       "  <thead>\n",
       "    <tr style=\"text-align: right;\">\n",
       "      <th></th>\n",
       "      <th>Unnamed: 0</th>\n",
       "      <th>ID</th>\n",
       "      <th>Severity</th>\n",
       "      <th>Start_Time</th>\n",
       "      <th>Start_Lat</th>\n",
       "      <th>Start_Lng</th>\n",
       "      <th>Description</th>\n",
       "      <th>City</th>\n",
       "      <th>County</th>\n",
       "      <th>State</th>\n",
       "      <th>...</th>\n",
       "      <th>No_Exit</th>\n",
       "      <th>Station</th>\n",
       "      <th>Stop</th>\n",
       "      <th>Traffic_Signal</th>\n",
       "      <th>Sunrise_Sunset</th>\n",
       "      <th>date</th>\n",
       "      <th>time</th>\n",
       "      <th>year</th>\n",
       "      <th>month</th>\n",
       "      <th>day</th>\n",
       "    </tr>\n",
       "    <tr>\n",
       "      <th>DST_Flag</th>\n",
       "      <th></th>\n",
       "      <th></th>\n",
       "      <th></th>\n",
       "      <th></th>\n",
       "      <th></th>\n",
       "      <th></th>\n",
       "      <th></th>\n",
       "      <th></th>\n",
       "      <th></th>\n",
       "      <th></th>\n",
       "      <th></th>\n",
       "      <th></th>\n",
       "      <th></th>\n",
       "      <th></th>\n",
       "      <th></th>\n",
       "      <th></th>\n",
       "      <th></th>\n",
       "      <th></th>\n",
       "      <th></th>\n",
       "      <th></th>\n",
       "      <th></th>\n",
       "    </tr>\n",
       "  </thead>\n",
       "  <tbody>\n",
       "    <tr>\n",
       "      <th>DST_on_PRE</th>\n",
       "      <td>805</td>\n",
       "      <td>805</td>\n",
       "      <td>805</td>\n",
       "      <td>805</td>\n",
       "      <td>805</td>\n",
       "      <td>805</td>\n",
       "      <td>805</td>\n",
       "      <td>805</td>\n",
       "      <td>805</td>\n",
       "      <td>805</td>\n",
       "      <td>...</td>\n",
       "      <td>805</td>\n",
       "      <td>805</td>\n",
       "      <td>805</td>\n",
       "      <td>805</td>\n",
       "      <td>804</td>\n",
       "      <td>805</td>\n",
       "      <td>805</td>\n",
       "      <td>805</td>\n",
       "      <td>805</td>\n",
       "      <td>805</td>\n",
       "    </tr>\n",
       "    <tr>\n",
       "      <th>DST_on_POST</th>\n",
       "      <td>713</td>\n",
       "      <td>713</td>\n",
       "      <td>713</td>\n",
       "      <td>713</td>\n",
       "      <td>713</td>\n",
       "      <td>713</td>\n",
       "      <td>713</td>\n",
       "      <td>713</td>\n",
       "      <td>713</td>\n",
       "      <td>713</td>\n",
       "      <td>...</td>\n",
       "      <td>713</td>\n",
       "      <td>713</td>\n",
       "      <td>713</td>\n",
       "      <td>713</td>\n",
       "      <td>713</td>\n",
       "      <td>713</td>\n",
       "      <td>713</td>\n",
       "      <td>713</td>\n",
       "      <td>713</td>\n",
       "      <td>713</td>\n",
       "    </tr>\n",
       "    <tr>\n",
       "      <th>DST_off_PRE</th>\n",
       "      <td>2157</td>\n",
       "      <td>2157</td>\n",
       "      <td>2157</td>\n",
       "      <td>2157</td>\n",
       "      <td>2157</td>\n",
       "      <td>2157</td>\n",
       "      <td>2157</td>\n",
       "      <td>2157</td>\n",
       "      <td>2157</td>\n",
       "      <td>2157</td>\n",
       "      <td>...</td>\n",
       "      <td>2157</td>\n",
       "      <td>2157</td>\n",
       "      <td>2157</td>\n",
       "      <td>2157</td>\n",
       "      <td>2153</td>\n",
       "      <td>2157</td>\n",
       "      <td>2157</td>\n",
       "      <td>2157</td>\n",
       "      <td>2157</td>\n",
       "      <td>2157</td>\n",
       "    </tr>\n",
       "    <tr>\n",
       "      <th>DST_off_POST</th>\n",
       "      <td>2199</td>\n",
       "      <td>2199</td>\n",
       "      <td>2199</td>\n",
       "      <td>2199</td>\n",
       "      <td>2199</td>\n",
       "      <td>2199</td>\n",
       "      <td>2199</td>\n",
       "      <td>2199</td>\n",
       "      <td>2199</td>\n",
       "      <td>2199</td>\n",
       "      <td>...</td>\n",
       "      <td>2199</td>\n",
       "      <td>2199</td>\n",
       "      <td>2199</td>\n",
       "      <td>2199</td>\n",
       "      <td>2198</td>\n",
       "      <td>2199</td>\n",
       "      <td>2199</td>\n",
       "      <td>2199</td>\n",
       "      <td>2199</td>\n",
       "      <td>2199</td>\n",
       "    </tr>\n",
       "  </tbody>\n",
       "</table>\n",
       "<p>4 rows × 35 columns</p>\n",
       "</div>"
      ],
      "text/plain": [
       "              Unnamed: 0    ID  Severity  Start_Time  Start_Lat  Start_Lng  \\\n",
       "DST_Flag                                                                     \n",
       "DST_on_PRE           805   805       805         805        805        805   \n",
       "DST_on_POST          713   713       713         713        713        713   \n",
       "DST_off_PRE         2157  2157      2157        2157       2157       2157   \n",
       "DST_off_POST        2199  2199      2199        2199       2199       2199   \n",
       "\n",
       "              Description  City  County  State  ...  No_Exit  Station  Stop  \\\n",
       "DST_Flag                                        ...                           \n",
       "DST_on_PRE            805   805     805    805  ...      805      805   805   \n",
       "DST_on_POST           713   713     713    713  ...      713      713   713   \n",
       "DST_off_PRE          2157  2157    2157   2157  ...     2157     2157  2157   \n",
       "DST_off_POST         2199  2199    2199   2199  ...     2199     2199  2199   \n",
       "\n",
       "              Traffic_Signal  Sunrise_Sunset  date  time  year  month   day  \n",
       "DST_Flag                                                                     \n",
       "DST_on_PRE               805             804   805   805   805    805   805  \n",
       "DST_on_POST              713             713   713   713   713    713   713  \n",
       "DST_off_PRE             2157            2153  2157  2157  2157   2157  2157  \n",
       "DST_off_POST            2199            2198  2199  2199  2199   2199  2199  \n",
       "\n",
       "[4 rows x 35 columns]"
      ]
     },
     "execution_count": 27,
     "metadata": {},
     "output_type": "execute_result"
    }
   ],
   "source": [
    "az_groupby_df"
   ]
  },
  {
   "cell_type": "code",
   "execution_count": 28,
   "metadata": {},
   "outputs": [
    {
     "data": {
      "text/plain": [
       "3.841458820694124"
      ]
     },
     "execution_count": 28,
     "metadata": {},
     "output_type": "execute_result"
    }
   ],
   "source": [
    "# Only compare the Fall accident in AZ number using chi-squre test: \n",
    "observed_fall_az = [2157, 2199]\n",
    "expected_fall_az = (2157+2199)/2\n",
    "chi_df_fall_az = pd.DataFrame([observed_fall_az]).T\n",
    "chi_df_fall_az[1] = expected_fall_az\n",
    "chi_df_fall_az.columns = [\"observed_fall_az\", \"expected_fall_az\"]\n",
    "chi_df_fall_az\n",
    "\n",
    "critical_value_fall_az = stats.chi2.ppf(q = 0.95, df = 1)\n",
    "critical_value_fall_az"
   ]
  },
  {
   "cell_type": "code",
   "execution_count": 29,
   "metadata": {},
   "outputs": [
    {
     "data": {
      "text/plain": [
       "Power_divergenceResult(statistic=0.4049586776859504, pvalue=0.5245394364353129)"
      ]
     },
     "execution_count": 29,
     "metadata": {},
     "output_type": "execute_result"
    }
   ],
   "source": [
    "stats.chisquare(chi_df_fall_az['observed_fall_az'], chi_df_fall_az['expected_fall_az'])"
   ]
  },
  {
   "cell_type": "code",
   "execution_count": 30,
   "metadata": {},
   "outputs": [
    {
     "data": {
      "text/plain": [
       "3.841458820694124"
      ]
     },
     "execution_count": 30,
     "metadata": {},
     "output_type": "execute_result"
    }
   ],
   "source": [
    "# Only compare the Fall accident in AZ number using chi-squre test: \n",
    "observed_spring_az = [805, 713]\n",
    "expected_spring_az = (805+713)/2\n",
    "chi_df_spring_az = pd.DataFrame([observed_spring_az]).T\n",
    "chi_df_spring_az[1] = expected_spring_az\n",
    "chi_df_spring_az.columns = [\"observed_spring_az\", \"expected_spring_az\"]\n",
    "chi_df_spring_az\n",
    "\n",
    "critical_value_fall_az = stats.chi2.ppf(q = 0.95, df = 1)\n",
    "critical_value_fall_az"
   ]
  },
  {
   "cell_type": "code",
   "execution_count": 31,
   "metadata": {},
   "outputs": [
    {
     "data": {
      "text/plain": [
       "Power_divergenceResult(statistic=5.575757575757576, pvalue=0.018210785121766562)"
      ]
     },
     "execution_count": 31,
     "metadata": {},
     "output_type": "execute_result"
    }
   ],
   "source": [
    "stats.chisquare(chi_df_spring_az['observed_spring_az'], chi_df_spring_az['expected_spring_az'])"
   ]
  },
  {
   "cell_type": "markdown",
   "metadata": {},
   "source": [
    "# Summary"
   ]
  },
  {
   "cell_type": "code",
   "execution_count": 32,
   "metadata": {},
   "outputs": [
    {
     "data": {
      "text/plain": [
       "DST_Flag\n",
       "DST_on_PRE       805\n",
       "DST_on_POST      713\n",
       "DST_off_PRE     2157\n",
       "DST_off_POST    2199\n",
       "Name: ID, dtype: int64"
      ]
     },
     "execution_count": 32,
     "metadata": {},
     "output_type": "execute_result"
    }
   ],
   "source": [
    "az_groupby_df['ID']"
   ]
  },
  {
   "cell_type": "code",
   "execution_count": 33,
   "metadata": {},
   "outputs": [
    {
     "data": {
      "text/plain": [
       "DST_Flag\n",
       "DST_on_PRE       5849\n",
       "DST_on_POST      5960\n",
       "DST_off_PRE     10723\n",
       "DST_off_POST    12340\n",
       "Name: ID, dtype: int64"
      ]
     },
     "execution_count": 33,
     "metadata": {},
     "output_type": "execute_result"
    }
   ],
   "source": [
    "ca_groupby_df['ID']"
   ]
  },
  {
   "cell_type": "code",
   "execution_count": 34,
   "metadata": {},
   "outputs": [],
   "source": [
    "summary_df = pd.DataFrame({\n",
    "    '# of Accident CA' : ca_groupby_df['ID'],\n",
    "    '# of Accident AZ' : az_groupby_df['ID']\n",
    "})\n"
   ]
  },
  {
   "cell_type": "code",
   "execution_count": 35,
   "metadata": {},
   "outputs": [
    {
     "name": "stdout",
     "output_type": "stream",
     "text": [
      "Percent change in CA in Spring: 1.9%\n",
      "Percent change in CA in Fall: 15.08%\n",
      "Percent change in AZ in Spring: -11.43%\n",
      "Percent change in AZ in Fall: 1.95%\n"
     ]
    }
   ],
   "source": [
    "percent_change_ca_on = ((5960 - 5849)/5849) * 100\n",
    "percent_change_ca_off = ((12340 - 10723)/10723) * 100\n",
    "percent_change_az_on = ((713 - 805)/805) * 100\n",
    "percent_change_az_off = ((2199 - 2157)/2157) * 100\n",
    "\n",
    "print(f'Percent change in CA in Spring: {round(percent_change_ca_on,2)}%')\n",
    "print(f'Percent change in CA in Fall: {round(percent_change_ca_off,2)}%')\n",
    "print(f'Percent change in AZ in Spring: {round(percent_change_az_on,2)}%')\n",
    "print(f'Percent change in AZ in Fall: {round(percent_change_az_off,2)}%')"
   ]
  },
  {
   "cell_type": "code",
   "execution_count": null,
   "metadata": {},
   "outputs": [],
   "source": [
    "#**** Percent change from (avg) California spring to (avg) California fall\n",
    "#**** Percent change from (avg) Arizona spring to (avg) Arizona fall"
   ]
  }
 ],
 "metadata": {
  "interpreter": {
   "hash": "4f593a442f57f399df1249bae09d66ab91b641a7de920b725ba3debee9319e53"
  },
  "kernelspec": {
   "display_name": "Python 3 (ipykernel)",
   "language": "python",
   "name": "python3"
  },
  "language_info": {
   "codemirror_mode": {
    "name": "ipython",
    "version": 3
   },
   "file_extension": ".py",
   "mimetype": "text/x-python",
   "name": "python",
   "nbconvert_exporter": "python",
   "pygments_lexer": "ipython3",
   "version": "3.9.7"
  }
 },
 "nbformat": 4,
 "nbformat_minor": 2
}
